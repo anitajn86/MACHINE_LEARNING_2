{
 "cells": [
  {
   "cell_type": "code",
   "execution_count": 6,
   "metadata": {},
   "outputs": [],
   "source": [
    "import numpy as np\n",
    "import sympy as sp"
   ]
  },
  {
   "cell_type": "code",
   "execution_count": 7,
   "metadata": {},
   "outputs": [
    {
     "name": "stdout",
     "output_type": "stream",
     "text": [
      "3*x**2 + 4*x + 1\n"
     ]
    }
   ],
   "source": [
    "#define the variable and the function\n",
    "x=sp.symbols('x')\n",
    "f=x**3+2*x**2+x+1\n",
    "\n",
    "#differentiate the function\n",
    "f_prime=sp.diff(f,x)\n",
    "print(f_prime)"
   ]
  },
  {
   "cell_type": "code",
   "execution_count": 8,
   "metadata": {},
   "outputs": [
    {
     "name": "stdout",
     "output_type": "stream",
     "text": [
      "Derivative at x=2: 21.00000000204716\n"
     ]
    },
    {
     "name": "stderr",
     "output_type": "stream",
     "text": [
      "C:\\Users\\LENOVO\\AppData\\Local\\Temp\\ipykernel_18344\\979429859.py:7: DeprecationWarning: scipy.misc.derivative is deprecated in SciPy v1.10.0; and will be completely removed in SciPy v1.12.0. You may consider using findiff: https://github.com/maroba/findiff or numdifftools: https://github.com/pbrod/numdifftools\n",
      "  f_prime=derivative(f,x_value,dx=1e-6)\n"
     ]
    }
   ],
   "source": [
    "from scipy.misc import derivative\n",
    "#define the function\n",
    "def f(x):\n",
    "    return x**3+2*x**2+x+1\n",
    "#computing the derivative at a specific point\n",
    "x_value=2\n",
    "f_prime=derivative(f,x_value,dx=1e-6)\n",
    "print(f\"Derivative at x={x_value}: {f_prime}\")"
   ]
  },
  {
   "cell_type": "code",
   "execution_count": 9,
   "metadata": {},
   "outputs": [
    {
     "name": "stdout",
     "output_type": "stream",
     "text": [
      "60*x - 5\n"
     ]
    }
   ],
   "source": [
    "x=sp.symbols('x')\n",
    "g=(5*x)*(6*x-1)\n",
    "\n",
    "g_prime=sp.diff(g,x)\n",
    "print(g_prime)\n"
   ]
  },
  {
   "cell_type": "code",
   "execution_count": 10,
   "metadata": {},
   "outputs": [
    {
     "name": "stdout",
     "output_type": "stream",
     "text": [
      "Function: exp(x**2)\n",
      "Derivative: 2*x*exp(x**2)\n"
     ]
    }
   ],
   "source": [
    "\n",
    "# Define the symbol\n",
    "x = sp.symbols('x')\n",
    "\n",
    "# Define the exponential function\n",
    "d = sp.exp(x**2)  # This represents e^x\n",
    "\n",
    "# Differentiate the function\n",
    "d_prime = sp.diff(d, x)\n",
    "\n",
    "# Print the result\n",
    "print(f\"Function: {d}\")\n",
    "print(f\"Derivative: {d_prime}\")\n"
   ]
  }
 ],
 "metadata": {
  "kernelspec": {
   "display_name": "base",
   "language": "python",
   "name": "python3"
  },
  "language_info": {
   "codemirror_mode": {
    "name": "ipython",
    "version": 3
   },
   "file_extension": ".py",
   "mimetype": "text/x-python",
   "name": "python",
   "nbconvert_exporter": "python",
   "pygments_lexer": "ipython3",
   "version": "3.11.7"
  }
 },
 "nbformat": 4,
 "nbformat_minor": 2
}
