{
 "cells": [
  {
   "cell_type": "markdown",
   "metadata": {},
   "source": [
    "Assignment from moodle"
   ]
  },
  {
   "cell_type": "code",
   "execution_count": 1,
   "metadata": {},
   "outputs": [],
   "source": [
    "import sympy as sp\n",
    "import numpy as np\n"
   ]
  },
  {
   "cell_type": "code",
   "execution_count": null,
   "metadata": {},
   "outputs": [
    {
     "name": "stdout",
     "output_type": "stream",
     "text": [
      "(tan(x)**2 + tan(x)*sec(x) + 1)/(tan(x) + sec(x))\n"
     ]
    }
   ],
   "source": [
    "#number 1\n",
    "#define the symbol\n",
    "x=sp.symbols('x')\n",
    "#define the function\n",
    "f=sp.log(sp.tan(x)+sp.sec(x))\n",
    "#differentiate your function with respect to your symbol\n",
    "f_prime=sp.diff(f,x)\n",
    "print(f_prime)\n"
   ]
  },
  {
   "cell_type": "code",
   "execution_count": 5,
   "metadata": {},
   "outputs": [
    {
     "name": "stdout",
     "output_type": "stream",
     "text": [
      "-sin(x)/(sin(x) + 1) - cos(x)**2/(sin(x) + 1)**2\n"
     ]
    }
   ],
   "source": [
    "#number 2\n",
    "x=sp.symbols('x')\n",
    "f=(sp.cos(x))/(1+sp.sin(x))\n",
    "f_prime=sp.diff(f,x)\n",
    "print(f_prime)"
   ]
  },
  {
   "cell_type": "code",
   "execution_count": 7,
   "metadata": {},
   "outputs": [
    {
     "name": "stdout",
     "output_type": "stream",
     "text": [
      "2*sin(x)*cos(x)\n"
     ]
    }
   ],
   "source": [
    "#number 3\n",
    "x=sp.symbols('x')\n",
    "f=sp.sin(x)**2\n",
    "f_prime=sp.diff(f,x)\n",
    "print(f_prime)"
   ]
  },
  {
   "cell_type": "code",
   "execution_count": 8,
   "metadata": {},
   "outputs": [
    {
     "name": "stdout",
     "output_type": "stream",
     "text": [
      "(tan(x)**2 + 1)/sec(x) - tan(x)**2/sec(x)\n"
     ]
    }
   ],
   "source": [
    "#number 4\n",
    "x=sp.symbols('x')\n",
    "f=(sp.tan(x))/(sp.sec(x))\n",
    "f_prime=sp.diff(f,x)\n",
    "print(f_prime)"
   ]
  },
  {
   "cell_type": "code",
   "execution_count": 9,
   "metadata": {},
   "outputs": [
    {
     "name": "stdout",
     "output_type": "stream",
     "text": [
      "-sin(x)**2 + cos(x)**2\n"
     ]
    }
   ],
   "source": [
    "#number 5\n",
    "x=sp.symbols('x')\n",
    "f=(sp.sin(x))*(sp.cos(x))\n",
    "f_prime=sp.diff(f,x)\n",
    "print(f_prime)"
   ]
  },
  {
   "cell_type": "code",
   "execution_count": null,
   "metadata": {},
   "outputs": [
    {
     "name": "stdout",
     "output_type": "stream",
     "text": [
      "(tan(x)**2 + 1)*sec(x) + tan(x)**2*sec(x)\n"
     ]
    }
   ],
   "source": [
    "#number 6\n",
    "x=sp.symbols('x')\n",
    "f=(sp.sec(x))*(sp.tan(x))\n",
    "f_prime=sp.diff(f,x)\n",
    "print(f_prime)"
   ]
  },
  {
   "cell_type": "code",
   "execution_count": null,
   "metadata": {},
   "outputs": [
    {
     "name": "stdout",
     "output_type": "stream",
     "text": [
      "tan(x)**2 + 1\n"
     ]
    }
   ],
   "source": [
    "#number 7\n",
    "x=sp.symbols('x')\n",
    "f=sp.tan(x)\n",
    "f_prime=sp.diff(f,x)\n",
    "print(f_prime)"
   ]
  },
  {
   "cell_type": "code",
   "execution_count": 12,
   "metadata": {},
   "outputs": [
    {
     "name": "stdout",
     "output_type": "stream",
     "text": [
      "-sin(x)\n"
     ]
    }
   ],
   "source": [
    "#number 8\n",
    "x=sp.symbols('x')\n",
    "f=sp.cos(x)\n",
    "f_prime=sp.diff(f,x)\n",
    "print(f_prime)"
   ]
  },
  {
   "cell_type": "code",
   "execution_count": 13,
   "metadata": {},
   "outputs": [
    {
     "name": "stdout",
     "output_type": "stream",
     "text": [
      "cos(x)\n"
     ]
    }
   ],
   "source": [
    "#number 9\n",
    "x=sp.symbols('x')\n",
    "f=sp.sin(x)\n",
    "f_prime=sp.diff(f,x)\n",
    "print(f_prime)"
   ]
  },
  {
   "cell_type": "markdown",
   "metadata": {},
   "source": [
    "In Class Assignment"
   ]
  },
  {
   "cell_type": "code",
   "execution_count": null,
   "metadata": {},
   "outputs": [
    {
     "name": "stdout",
     "output_type": "stream",
     "text": [
      "Derivative at x=2: -0.523752866354865\n"
     ]
    },
    {
     "name": "stderr",
     "output_type": "stream",
     "text": [
      "C:\\Users\\LENOVO\\AppData\\Local\\Temp\\ipykernel_3288\\1378328048.py:7: DeprecationWarning: scipy.misc.derivative is deprecated in SciPy v1.10.0; and will be completely removed in SciPy v1.12.0. You may consider using findiff: https://github.com/maroba/findiff or numdifftools: https://github.com/pbrod/numdifftools\n",
      "  f_prime=derivative(f,x_value,dx=1e-6)\n"
     ]
    }
   ],
   "source": [
    "#obtaining the derivative at a particular point\n",
    "from scipy.misc import derivative\n",
    "#define the function\n",
    "def f(x):\n",
    "    return (sp.cos(x))/(1+sp.sin(x))\n",
    "#computing the derivative at a specific point\n",
    "x_value=2\n",
    "f_prime=derivative(f,x_value,dx=1e-6)\n",
    "print(f\"Derivative at x={x_value}: {f_prime}\")"
   ]
  },
  {
   "cell_type": "code",
   "execution_count": null,
   "metadata": {},
   "outputs": [
    {
     "name": "stdout",
     "output_type": "stream",
     "text": [
      "Indefinite Integral of cos(x): sin(x)\n"
     ]
    }
   ],
   "source": [
    "#INTEGRATION\n",
    "x = sp.symbols('x')\n",
    "f = sp.cos(x)\n",
    "# Compute the indefinite integral\n",
    "indefinite_integral = sp.integrate(f, x)\n",
    "print( indefinite_integral)\n"
   ]
  },
  {
   "cell_type": "code",
   "execution_count": 21,
   "metadata": {},
   "outputs": [
    {
     "name": "stdout",
     "output_type": "stream",
     "text": [
      "cos(x)\n"
     ]
    }
   ],
   "source": [
    "#INTEGRATION\n",
    "x = sp.symbols('x')\n",
    "f = -sp.sin(x)\n",
    "# Compute the indefinite integral\n",
    "indefinite_integral = sp.integrate(f, x)\n",
    "print( indefinite_integral)\n"
   ]
  }
 ],
 "metadata": {
  "kernelspec": {
   "display_name": "base",
   "language": "python",
   "name": "python3"
  },
  "language_info": {
   "codemirror_mode": {
    "name": "ipython",
    "version": 3
   },
   "file_extension": ".py",
   "mimetype": "text/x-python",
   "name": "python",
   "nbconvert_exporter": "python",
   "pygments_lexer": "ipython3",
   "version": "3.11.7"
  }
 },
 "nbformat": 4,
 "nbformat_minor": 2
}
