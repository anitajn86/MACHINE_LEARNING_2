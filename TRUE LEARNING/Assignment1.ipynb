{
 "cells": [
  {
   "cell_type": "code",
   "execution_count": 1,
   "metadata": {},
   "outputs": [],
   "source": [
    "import sympy as sp\n",
    "import numpy as np\n"
   ]
  },
  {
   "cell_type": "code",
   "execution_count": null,
   "metadata": {},
   "outputs": [
    {
     "name": "stdout",
     "output_type": "stream",
     "text": [
      "(tan(x)**2 + tan(x)*sec(x) + 1)/(tan(x) + sec(x))\n"
     ]
    }
   ],
   "source": [
    "#number 1\n",
    "#define the symbol\n",
    "x=sp.symbols('x')\n",
    "#define the function\n",
    "f=sp.log(sp.tan(x)+sp.sec(x))\n",
    "#differentiate your function with respect to your symbol\n",
    "f_prime=sp.diff(f,x)\n",
    "print(f_prime)\n"
   ]
  },
  {
   "cell_type": "code",
   "execution_count": 5,
   "metadata": {},
   "outputs": [
    {
     "name": "stdout",
     "output_type": "stream",
     "text": [
      "-sin(x)/(sin(x) + 1) - cos(x)**2/(sin(x) + 1)**2\n"
     ]
    }
   ],
   "source": [
    "#number 2\n",
    "x=sp.symbols('x')\n",
    "f=(sp.cos(x))/(1+sp.sin(x))\n",
    "f_prime=sp.diff(f,x)\n",
    "print(f_prime)"
   ]
  },
  {
   "cell_type": "code",
   "execution_count": 7,
   "metadata": {},
   "outputs": [
    {
     "name": "stdout",
     "output_type": "stream",
     "text": [
      "2*sin(x)*cos(x)\n"
     ]
    }
   ],
   "source": [
    "#number 3\n",
    "x=sp.symbols('x')\n",
    "f=sp.sin(x)**2\n",
    "f_prime=sp.diff(f,x)\n",
    "print(f_prime)"
   ]
  },
  {
   "cell_type": "code",
   "execution_count": 8,
   "metadata": {},
   "outputs": [
    {
     "name": "stdout",
     "output_type": "stream",
     "text": [
      "(tan(x)**2 + 1)/sec(x) - tan(x)**2/sec(x)\n"
     ]
    }
   ],
   "source": [
    "#number 4\n",
    "x=sp.symbols('x')\n",
    "f=(sp.tan(x))/(sp.sec(x))\n",
    "f_prime=sp.diff(f,x)\n",
    "print(f_prime)"
   ]
  },
  {
   "cell_type": "code",
   "execution_count": 9,
   "metadata": {},
   "outputs": [
    {
     "name": "stdout",
     "output_type": "stream",
     "text": [
      "-sin(x)**2 + cos(x)**2\n"
     ]
    }
   ],
   "source": [
    "#number 5\n",
    "x=sp.symbols('x')\n",
    "f=(sp.sin(x))*(sp.cos(x))\n",
    "f_prime=sp.diff(f,x)\n",
    "print(f_prime)"
   ]
  },
  {
   "cell_type": "code",
   "execution_count": null,
   "metadata": {},
   "outputs": [
    {
     "name": "stdout",
     "output_type": "stream",
     "text": [
      "(tan(x)**2 + 1)*sec(x) + tan(x)**2*sec(x)\n"
     ]
    }
   ],
   "source": [
    "#number 6\n",
    "x=sp.symbols('x')\n",
    "f=(sp.sec(x))*(sp.tan(x))\n",
    "f_prime=sp.diff(f,x)\n",
    "print(f_prime)"
   ]
  },
  {
   "cell_type": "code",
   "execution_count": null,
   "metadata": {},
   "outputs": [
    {
     "name": "stdout",
     "output_type": "stream",
     "text": [
      "tan(x)**2 + 1\n"
     ]
    }
   ],
   "source": [
    "#number 7\n",
    "x=sp.symbols('x')\n",
    "f=sp.tan(x)\n",
    "f_prime=sp.diff(f,x)\n",
    "print(f_prime)"
   ]
  },
  {
   "cell_type": "code",
   "execution_count": 12,
   "metadata": {},
   "outputs": [
    {
     "name": "stdout",
     "output_type": "stream",
     "text": [
      "-sin(x)\n"
     ]
    }
   ],
   "source": [
    "#number 8\n",
    "x=sp.symbols('x')\n",
    "f=sp.cos(x)\n",
    "f_prime=sp.diff(f,x)\n",
    "print(f_prime)"
   ]
  },
  {
   "cell_type": "code",
   "execution_count": 13,
   "metadata": {},
   "outputs": [
    {
     "name": "stdout",
     "output_type": "stream",
     "text": [
      "cos(x)\n"
     ]
    }
   ],
   "source": [
    "#number 9\n",
    "x=sp.symbols('x')\n",
    "f=sp.sin(x)\n",
    "f_prime=sp.diff(f,x)\n",
    "print(f_prime)"
   ]
  }
 ],
 "metadata": {
  "kernelspec": {
   "display_name": "base",
   "language": "python",
   "name": "python3"
  },
  "language_info": {
   "codemirror_mode": {
    "name": "ipython",
    "version": 3
   },
   "file_extension": ".py",
   "mimetype": "text/x-python",
   "name": "python",
   "nbconvert_exporter": "python",
   "pygments_lexer": "ipython3",
   "version": "3.11.7"
  }
 },
 "nbformat": 4,
 "nbformat_minor": 2
}
